{
 "cells": [
  {
   "cell_type": "markdown",
   "id": "43adbb6a-07b0-4493-a596-eec6921730c5",
   "metadata": {},
   "source": [
    "# 头脑风暴\n",
    "\n",
    "一些尝试"
   ]
  },
  {
   "cell_type": "code",
   "execution_count": 1,
   "id": "d43b5ba2-a1dd-4faa-882e-1a96267193c7",
   "metadata": {},
   "outputs": [],
   "source": [
    "from transformers import BertModel, BertTokenizer\n",
    "import torch\n",
    "import numpy as np"
   ]
  },
  {
   "cell_type": "code",
   "execution_count": 2,
   "id": "0a63d740-ca03-425d-9330-bf4d2995c013",
   "metadata": {},
   "outputs": [],
   "source": [
    "EN_BERT_PATH = './data/bert-base-uncased'"
   ]
  },
  {
   "cell_type": "markdown",
   "id": "224a8f0a-8f19-49ad-86fc-562b87facdfe",
   "metadata": {},
   "source": [
    "## 1. Embedding 的稳定性\n",
    "\n",
    "同一个词做两次 embedding，结果是否相同？"
   ]
  },
  {
   "cell_type": "code",
   "execution_count": 3,
   "id": "9b0b3bb4-4d2a-414a-bfbb-22f9c9e732aa",
   "metadata": {},
   "outputs": [
    {
     "name": "stderr",
     "output_type": "stream",
     "text": [
      "Some weights of the model checkpoint at ./data/bert-base-uncased were not used when initializing BertModel: ['cls.seq_relationship.weight', 'cls.predictions.transform.LayerNorm.bias', 'cls.predictions.bias', 'cls.predictions.decoder.weight', 'cls.predictions.transform.dense.weight', 'cls.predictions.transform.dense.bias', 'cls.predictions.transform.LayerNorm.weight', 'cls.seq_relationship.bias']\n",
      "- This IS expected if you are initializing BertModel from the checkpoint of a model trained on another task or with another architecture (e.g. initializing a BertForSequenceClassification model from a BertForPreTraining model).\n",
      "- This IS NOT expected if you are initializing BertModel from the checkpoint of a model that you expect to be exactly identical (initializing a BertForSequenceClassification model from a BertForSequenceClassification model).\n"
     ]
    }
   ],
   "source": [
    "# 加载模型\n",
    "tokenizer = BertTokenizer.from_pretrained(EN_BERT_PATH)\n",
    "model = BertModel.from_pretrained(EN_BERT_PATH)"
   ]
  },
  {
   "cell_type": "code",
   "execution_count": 4,
   "id": "087130e9-effa-4774-8769-aefa9fd70612",
   "metadata": {},
   "outputs": [],
   "source": [
    "# 批量计算 embeddings\n",
    "def get_embeddings(corpus):\n",
    "    encoded_inputs = tokenizer(corpus,\n",
    "                               padding='max_length',\n",
    "                               truncation=True,\n",
    "                               return_tensors='pt')\n",
    "\n",
    "    with torch.no_grad():\n",
    "        outputs = model(**encoded_inputs)\n",
    "        embeddings = outputs.last_hidden_state.mean(dim=1)\n",
    "        # embeddings = outputs.last_hidden_state[:, 0, :]\n",
    "\n",
    "    return embeddings"
   ]
  },
  {
   "cell_type": "code",
   "execution_count": 5,
   "id": "106d7a7a-0a97-4edb-88c7-4dfefa66e9e7",
   "metadata": {},
   "outputs": [
    {
     "data": {
      "text/plain": [
       "True"
      ]
     },
     "execution_count": 5,
     "metadata": {},
     "output_type": "execute_result"
    }
   ],
   "source": [
    "e1 = get_embeddings('usa')\n",
    "e2 = get_embeddings('usa')\n",
    "\n",
    "all((e1 == e2).tolist())"
   ]
  },
  {
   "cell_type": "markdown",
   "id": "a0a54008-0f48-4834-8c64-d14e235f619f",
   "metadata": {},
   "source": [
    "## 2. Embedding 差值的意义"
   ]
  },
  {
   "cell_type": "code",
   "execution_count": 6,
   "id": "53e19ddb-4101-4a8d-9a4e-1bdb51c1b87d",
   "metadata": {},
   "outputs": [],
   "source": [
    "corpus = [\n",
    "    'king',\n",
    "    'queen',\n",
    "    'male',\n",
    "    'female',\n",
    "    'man',\n",
    "    'woman',\n",
    "    'blue',\n",
    "    'bad'\n",
    "]\n",
    "embeddings = get_embeddings(corpus)\n",
    "c2e = {c: e for c, e in zip(corpus, embeddings)}"
   ]
  },
  {
   "cell_type": "code",
   "execution_count": 7,
   "id": "4239340a-24e1-4d8e-a9f1-9e3849772662",
   "metadata": {},
   "outputs": [],
   "source": [
    "def squared_distances(a, b):\n",
    "    a = np.array(a)\n",
    "    b = np.array(b)\n",
    "    return np.sum((a - b) ** 2)"
   ]
  },
  {
   "cell_type": "code",
   "execution_count": 8,
   "id": "4e66d5f3-213b-4c9c-9996-3b554eb29e87",
   "metadata": {},
   "outputs": [
    {
     "data": {
      "text/plain": [
       "12.46646"
      ]
     },
     "execution_count": 8,
     "metadata": {},
     "output_type": "execute_result"
    }
   ],
   "source": [
    "squared_distances(a=c2e['king'],\n",
    "                  b=c2e['queen'])"
   ]
  },
  {
   "cell_type": "code",
   "execution_count": 9,
   "id": "526be46f-9265-479a-b819-199f9df1f851",
   "metadata": {},
   "outputs": [
    {
     "data": {
      "text/plain": [
       "11.630802"
      ]
     },
     "execution_count": 9,
     "metadata": {},
     "output_type": "execute_result"
    }
   ],
   "source": [
    "squared_distances(a=c2e['male'],\n",
    "                  b=c2e['female'])"
   ]
  },
  {
   "cell_type": "code",
   "execution_count": 10,
   "id": "0dec22fa-f502-4f52-985e-9f1fb553948e",
   "metadata": {},
   "outputs": [
    {
     "data": {
      "text/plain": [
       "20.933697"
      ]
     },
     "execution_count": 10,
     "metadata": {},
     "output_type": "execute_result"
    }
   ],
   "source": [
    "squared_distances(a=c2e['man'],\n",
    "                  b=c2e['woman'])"
   ]
  },
  {
   "cell_type": "code",
   "execution_count": 11,
   "id": "c54ff1fb-8634-44da-b7f8-33fa1ff7ddd9",
   "metadata": {},
   "outputs": [
    {
     "data": {
      "text/plain": [
       "46.82113"
      ]
     },
     "execution_count": 11,
     "metadata": {},
     "output_type": "execute_result"
    }
   ],
   "source": [
    "squared_distances(a=c2e['blue'],\n",
    "                  b=c2e['bad'])"
   ]
  },
  {
   "cell_type": "code",
   "execution_count": null,
   "id": "37dd2b83-72bd-4cbd-a330-957523c4637d",
   "metadata": {},
   "outputs": [],
   "source": []
  }
 ],
 "metadata": {
  "kernelspec": {
   "display_name": "Python 3 (ipykernel)",
   "language": "python",
   "name": "python3"
  },
  "language_info": {
   "codemirror_mode": {
    "name": "ipython",
    "version": 3
   },
   "file_extension": ".py",
   "mimetype": "text/x-python",
   "name": "python",
   "nbconvert_exporter": "python",
   "pygments_lexer": "ipython3",
   "version": "3.10.9"
  }
 },
 "nbformat": 4,
 "nbformat_minor": 5
}
