{
 "cells": [
  {
   "cell_type": "markdown",
   "id": "4671a974-af0c-4f39-9c61-892a7ee2a8c1",
   "metadata": {
    "execution": {
     "iopub.execute_input": "2024-06-16T13:55:17.614164Z",
     "iopub.status.busy": "2024-06-16T13:55:17.613724Z",
     "iopub.status.idle": "2024-06-16T13:55:17.618196Z",
     "shell.execute_reply": "2024-06-16T13:55:17.617235Z",
     "shell.execute_reply.started": "2024-06-16T13:55:17.614134Z"
    }
   },
   "source": [
    "# Word2Vec\n",
    "\n",
    "这里有一个小插曲，因为 scipy 更新了 `scipy.linalg.triu` 函数，导致 gensim 在今天这个时点（2024 年 6 月 16日）crash 了。\n",
    "\n",
    "> The scipy.linalg functions tri, triu & tril are deprecated and will be removed in SciPy 1.13. Users are recommended to use the NumPy versions of these functions with identical names.\n",
    ">\n",
    "> Source: [SciPy 1.11.0 Release Notes](https://scipy.github.io/devdocs/release/1.11.0-notes.html#deprecated-features)\n",
    "\n",
    "其实 `gensim` 的代码库针对这个问题已经修改了 [[issues 3525]](https://github.com/piskvorky/gensim/issues/3525)，但是没有发布到 release，所以至今依然存在这个问题。\n",
    "\n",
    "这个问题过段时间肯定就好了。如果你处的时空跟我一样，依旧没有修复，可以考虑用以下两种解决方法：\n",
    "\n",
    "1. 将 Scipy 回退到 `1.12.0`（推荐，已实践）：\n",
    "\n",
    "```bash\n",
    "   pip uninstall scipy -y\n",
    "   pip install scipy==1.12.0\n",
    "```\n",
    "\n",
    "2. 从 [gensim](https://github.com/piskvorky/gensim) 代码库下载最新代码，然后从源代码构建 Package：\n",
    "\n",
    "```bash\n",
    "   git clone https://github.com/piskvorky/gensim.git\n",
    "   cd gensim\n",
    "   pip uninstall gensim -y\n",
    "   pip install -e .\n",
    "```\n"
   ]
  },
  {
   "cell_type": "code",
   "execution_count": 1,
   "id": "0a84c09d-ed99-4579-b78d-66b0bc778005",
   "metadata": {
    "execution": {
     "iopub.execute_input": "2024-06-16T14:15:32.748558Z",
     "iopub.status.busy": "2024-06-16T14:15:32.748187Z",
     "iopub.status.idle": "2024-06-16T14:15:38.085956Z",
     "shell.execute_reply": "2024-06-16T14:15:38.085148Z",
     "shell.execute_reply.started": "2024-06-16T14:15:32.748532Z"
    }
   },
   "outputs": [
    {
     "name": "stdout",
     "output_type": "stream",
     "text": [
      "Requirement already satisfied: scipy==1.12.0 in /Users/changluo/miniforge3/lib/python3.10/site-packages (1.12.0)\n",
      "Requirement already satisfied: numpy<1.29.0,>=1.22.4 in /Users/changluo/miniforge3/lib/python3.10/site-packages (from scipy==1.12.0) (1.26.4)\n"
     ]
    }
   ],
   "source": [
    "# !pip install gensim\n",
    "# !pip install nltk\n",
    "# !pip uninstall scipy -y\n",
    "# !pip install scipy==1.12.0"
   ]
  },
  {
   "cell_type": "code",
   "execution_count": 2,
   "id": "44fb66c9-d802-4d31-a815-20d475c5c506",
   "metadata": {
    "execution": {
     "iopub.execute_input": "2024-06-16T14:15:38.133581Z",
     "iopub.status.busy": "2024-06-16T14:15:38.133177Z",
     "iopub.status.idle": "2024-06-16T14:15:40.715803Z",
     "shell.execute_reply": "2024-06-16T14:15:40.714266Z",
     "shell.execute_reply.started": "2024-06-16T14:15:38.133549Z"
    }
   },
   "outputs": [
    {
     "name": "stdout",
     "output_type": "stream",
     "text": [
      "gensim                                   4.3.2\n",
      "scipy                                    1.12.0\n"
     ]
    }
   ],
   "source": [
    "!pip list | grep gensim\n",
    "!pip list | grep scipy"
   ]
  },
  {
   "cell_type": "code",
   "execution_count": 3,
   "id": "af7fb0a0-0b1f-4d3c-bc1f-96b66ea7f2c2",
   "metadata": {
    "execution": {
     "iopub.execute_input": "2024-06-16T14:15:40.718610Z",
     "iopub.status.busy": "2024-06-16T14:15:40.717977Z",
     "iopub.status.idle": "2024-06-16T14:16:27.745855Z",
     "shell.execute_reply": "2024-06-16T14:16:27.745107Z",
     "shell.execute_reply.started": "2024-06-16T14:15:40.718568Z"
    }
   },
   "outputs": [
    {
     "name": "stdout",
     "output_type": "stream",
     "text": [
      "Vector for 'sentence': [-8.2426779e-03  9.2993546e-03 -1.9766092e-04 -1.9672764e-03\n",
      "  4.6036304e-03 -4.0953159e-03  2.7431143e-03  6.9399667e-03\n",
      "  6.0654259e-03 -7.5107943e-03  9.3823504e-03  4.6718083e-03\n",
      "  3.9661205e-03 -6.2435055e-03  8.4599797e-03 -2.1501649e-03\n",
      "  8.8251876e-03 -5.3620026e-03 -8.1294188e-03  6.8245591e-03\n",
      "  1.6711927e-03 -2.1985089e-03  9.5136007e-03  9.4938548e-03\n",
      " -9.7740470e-03  2.5052286e-03  6.1566923e-03  3.8724565e-03\n",
      "  2.0227872e-03  4.3050171e-04  6.7363144e-04 -3.8206363e-03\n",
      " -7.1402504e-03 -2.0888723e-03  3.9238976e-03  8.8186832e-03\n",
      "  9.2591504e-03 -5.9759365e-03 -9.4026709e-03  9.7643770e-03\n",
      "  3.4297847e-03  5.1661171e-03  6.2823449e-03 -2.8042626e-03\n",
      "  7.3227035e-03  2.8302716e-03  2.8710044e-03 -2.3803699e-03\n",
      " -3.1282497e-03 -2.3701417e-03  4.2764368e-03  7.6057913e-05\n",
      " -9.5842788e-03 -9.6655441e-03 -6.1481940e-03 -1.2856961e-04\n",
      "  1.9974159e-03  9.4319675e-03  5.5843508e-03 -4.2906962e-03\n",
      "  2.7831673e-04  4.9643586e-03  7.6983096e-03 -1.1442233e-03\n",
      "  4.3234206e-03 -5.8143795e-03 -8.0419064e-04  8.1000505e-03\n",
      " -2.3600650e-03 -9.6634552e-03  5.7792603e-03 -3.9298222e-03\n",
      " -1.2228728e-03  9.9805174e-03 -2.2563506e-03 -4.7570644e-03\n",
      " -5.3293873e-03  6.9808899e-03 -5.7088719e-03  2.1136629e-03\n",
      " -5.2556600e-03  6.1207139e-03  4.3573068e-03  2.6063549e-03\n",
      " -1.4910829e-03 -2.7460635e-03  8.9929365e-03  5.2157748e-03\n",
      " -2.1625196e-03 -9.4703101e-03 -7.4260519e-03 -1.0637414e-03\n",
      " -7.9494715e-04 -2.5629092e-03  9.6827205e-03 -4.5852066e-04\n",
      "  5.8737611e-03 -7.4475873e-03 -2.5060738e-03 -5.5498634e-03]\n",
      "Words most similar to 'word2vec': [('generate', 0.13149002194404602), ('embeddings', 0.07497557997703552), ('example', 0.06797593086957932), ('show', 0.04157734289765358), ('another', 0.04130810499191284), ('great', 0.012979976832866669), ('first', -0.0092534264549613), ('vec', -0.013597165234386921), ('meant', -0.013679763302206993), ('vectors', -0.044617101550102234)]\n"
     ]
    },
    {
     "name": "stderr",
     "output_type": "stream",
     "text": [
      "[nltk_data] Downloading package stopwords to\n",
      "[nltk_data]     /Users/changluo/nltk_data...\n",
      "[nltk_data]   Package stopwords is already up-to-date!\n"
     ]
    }
   ],
   "source": [
    "# Step 1: Import the necessary libraries\n",
    "from gensim.models import Word2Vec\n",
    "from gensim.utils import simple_preprocess\n",
    "import nltk\n",
    "from nltk.corpus import stopwords\n",
    "\n",
    "# Ensure you have the stopwords downloaded\n",
    "nltk.download('stopwords')\n",
    "\n",
    "# Step 2: Prepare your corpus (this is a simplified example)\n",
    "corpus = [\n",
    "    \"This is the first sentence for our word2vec example.\",\n",
    "    \"Here is another sentence.\",\n",
    "    \"Word2Vec is a great tool for word embeddings.\",\n",
    "    \"This example is meant to show how to generate word vectors.\"\n",
    "]\n",
    "\n",
    "# Step 3: Preprocess the corpus\n",
    "stop_words = set(stopwords.words('english'))\n",
    "processed_corpus = [\n",
    "    [word for word in simple_preprocess(doc) if word not in stop_words]\n",
    "    for doc in corpus\n",
    "]\n",
    "\n",
    "# Step 4: Train the Word2Vec model\n",
    "model = Word2Vec(sentences=processed_corpus, vector_size=100, window=5, min_count=1, workers=4)\n",
    "\n",
    "# Step 5: Access the word vectors\n",
    "word_vectors = model.wv\n",
    "\n",
    "# Example: Get the vector for the word 'word2vec'\n",
    "vector = word_vectors['sentence']\n",
    "print(\"Vector for 'sentence':\", vector)\n",
    "\n",
    "# Example: Find the most similar words to 'sentence'\n",
    "similar_words = word_vectors.most_similar('sentence')\n",
    "print(\"Words most similar to 'word2vec':\", similar_words)"
   ]
  },
  {
   "cell_type": "code",
   "execution_count": 4,
   "id": "eac599b1-771a-48b3-b9e1-e137e3ad4f45",
   "metadata": {
    "execution": {
     "iopub.execute_input": "2024-06-16T14:16:27.748032Z",
     "iopub.status.busy": "2024-06-16T14:16:27.747521Z",
     "iopub.status.idle": "2024-06-16T14:16:27.757440Z",
     "shell.execute_reply": "2024-06-16T14:16:27.756488Z",
     "shell.execute_reply.started": "2024-06-16T14:16:27.748000Z"
    }
   },
   "outputs": [
    {
     "data": {
      "text/plain": [
       "<gensim.models.keyedvectors.KeyedVectors at 0x146ffffa0>"
      ]
     },
     "execution_count": 4,
     "metadata": {},
     "output_type": "execute_result"
    }
   ],
   "source": [
    "word_vectors"
   ]
  },
  {
   "cell_type": "code",
   "execution_count": null,
   "id": "bf91a772-5070-422b-b8e5-d8a383a339c3",
   "metadata": {},
   "outputs": [],
   "source": []
  }
 ],
 "metadata": {
  "kernelspec": {
   "display_name": "Python 3 (ipykernel)",
   "language": "python",
   "name": "python3"
  },
  "language_info": {
   "codemirror_mode": {
    "name": "ipython",
    "version": 3
   },
   "file_extension": ".py",
   "mimetype": "text/x-python",
   "name": "python",
   "nbconvert_exporter": "python",
   "pygments_lexer": "ipython3",
   "version": "3.10.14"
  }
 },
 "nbformat": 4,
 "nbformat_minor": 5
}
