{
 "cells": [
  {
   "cell_type": "markdown",
   "id": "4671a974-af0c-4f39-9c61-892a7ee2a8c1",
   "metadata": {
    "execution": {
     "iopub.execute_input": "2024-06-16T13:55:17.614164Z",
     "iopub.status.busy": "2024-06-16T13:55:17.613724Z",
     "iopub.status.idle": "2024-06-16T13:55:17.618196Z",
     "shell.execute_reply": "2024-06-16T13:55:17.617235Z",
     "shell.execute_reply.started": "2024-06-16T13:55:17.614134Z"
    }
   },
   "source": [
    "# Word2Vec\n",
    "\n",
    "使用 Word2Vec 获取中英文词向量"
   ]
  },
  {
   "cell_type": "code",
   "execution_count": 1,
   "id": "0a84c09d-ed99-4579-b78d-66b0bc778005",
   "metadata": {
    "execution": {
     "iopub.execute_input": "2024-06-24T09:17:49.382846Z",
     "iopub.status.busy": "2024-06-24T09:17:49.382336Z",
     "iopub.status.idle": "2024-06-24T09:17:49.385860Z",
     "shell.execute_reply": "2024-06-24T09:17:49.385253Z",
     "shell.execute_reply.started": "2024-06-24T09:17:49.382821Z"
    }
   },
   "outputs": [],
   "source": [
    "# !pip install gensim\n",
    "# !pip install nltk\n",
    "# !pip uninstall scipy -y\n",
    "# !pip install scipy==1.12.0\n",
    "# !pip install jieba"
   ]
  },
  {
   "cell_type": "code",
   "execution_count": 2,
   "id": "44fb66c9-d802-4d31-a815-20d475c5c506",
   "metadata": {
    "execution": {
     "iopub.execute_input": "2024-06-24T09:17:49.388230Z",
     "iopub.status.busy": "2024-06-24T09:17:49.387622Z",
     "iopub.status.idle": "2024-06-24T09:17:52.470936Z",
     "shell.execute_reply": "2024-06-24T09:17:52.468918Z",
     "shell.execute_reply.started": "2024-06-24T09:17:49.388202Z"
    }
   },
   "outputs": [
    {
     "name": "stdout",
     "output_type": "stream",
     "text": [
      "gensim                                   4.3.2\n",
      "scipy                                    1.12.0\n"
     ]
    }
   ],
   "source": [
    "!pip list | grep gensim\n",
    "!pip list | grep scipy"
   ]
  },
  {
   "cell_type": "code",
   "execution_count": 3,
   "id": "af7fb0a0-0b1f-4d3c-bc1f-96b66ea7f2c2",
   "metadata": {
    "execution": {
     "iopub.execute_input": "2024-06-24T09:17:52.476577Z",
     "iopub.status.busy": "2024-06-24T09:17:52.476054Z",
     "iopub.status.idle": "2024-06-24T09:17:56.067226Z",
     "shell.execute_reply": "2024-06-24T09:17:56.066422Z",
     "shell.execute_reply.started": "2024-06-24T09:17:52.476548Z"
    }
   },
   "outputs": [
    {
     "name": "stderr",
     "output_type": "stream",
     "text": [
      "[nltk_data] Downloading package stopwords to\n",
      "[nltk_data]     /Users/changluo/nltk_data...\n",
      "[nltk_data]   Package stopwords is already up-to-date!\n"
     ]
    },
    {
     "data": {
      "text/plain": [
       "True"
      ]
     },
     "execution_count": 3,
     "metadata": {},
     "output_type": "execute_result"
    }
   ],
   "source": [
    "from gensim.models import Word2Vec\n",
    "from gensim.utils import simple_preprocess\n",
    "from nltk.corpus import stopwords\n",
    "from nltk import download\n",
    "\n",
    "download('stopwords')"
   ]
  },
  {
   "cell_type": "markdown",
   "id": "09029a5f-1b3f-46a2-a53c-4f67476ec170",
   "metadata": {},
   "source": [
    "## 1. 英文词向量"
   ]
  },
  {
   "cell_type": "code",
   "execution_count": 4,
   "id": "c4726f8d-5bf8-4077-810b-528c2968d563",
   "metadata": {
    "execution": {
     "iopub.execute_input": "2024-06-24T09:17:56.069013Z",
     "iopub.status.busy": "2024-06-24T09:17:56.068410Z",
     "iopub.status.idle": "2024-06-24T09:17:56.077993Z",
     "shell.execute_reply": "2024-06-24T09:17:56.076753Z",
     "shell.execute_reply.started": "2024-06-24T09:17:56.068986Z"
    }
   },
   "outputs": [
    {
     "data": {
      "text/plain": [
       "179"
      ]
     },
     "execution_count": 4,
     "metadata": {},
     "output_type": "execute_result"
    }
   ],
   "source": [
    "corpus = [\n",
    "    \"This is the first sentence for our word2vec example.\",\n",
    "    \"Here is another sentence.\",\n",
    "    \"Word2Vec is a great tool for word embeddings.\",\n",
    "    \"This example is meant to show how to generate word vectors.\"\n",
    "]\n",
    "\n",
    "stop_words = set(stopwords.words('english'))\n",
    "len(stop_words)"
   ]
  },
  {
   "cell_type": "code",
   "execution_count": 5,
   "id": "56edebce-cae7-44a7-90d6-31cbeb8d55a1",
   "metadata": {
    "execution": {
     "iopub.execute_input": "2024-06-24T09:17:56.079727Z",
     "iopub.status.busy": "2024-06-24T09:17:56.079127Z",
     "iopub.status.idle": "2024-06-24T09:17:56.085737Z",
     "shell.execute_reply": "2024-06-24T09:17:56.084617Z",
     "shell.execute_reply.started": "2024-06-24T09:17:56.079691Z"
    }
   },
   "outputs": [
    {
     "data": {
      "text/plain": [
       "['generate', 'word', 'vectors']"
      ]
     },
     "execution_count": 5,
     "metadata": {},
     "output_type": "execute_result"
    }
   ],
   "source": [
    "simple_preprocess('generate word vectors')"
   ]
  },
  {
   "cell_type": "code",
   "execution_count": 6,
   "id": "a33f99e6-6b21-4976-b568-d49848b6558b",
   "metadata": {
    "execution": {
     "iopub.execute_input": "2024-06-24T09:17:56.088228Z",
     "iopub.status.busy": "2024-06-24T09:17:56.087383Z",
     "iopub.status.idle": "2024-06-24T09:17:56.093929Z",
     "shell.execute_reply": "2024-06-24T09:17:56.093308Z",
     "shell.execute_reply.started": "2024-06-24T09:17:56.088189Z"
    }
   },
   "outputs": [
    {
     "data": {
      "text/plain": [
       "[['first', 'sentence', 'word', 'vec', 'example'],\n",
       " ['another', 'sentence'],\n",
       " ['word', 'vec', 'great', 'tool', 'word', 'embeddings'],\n",
       " ['example', 'meant', 'show', 'generate', 'word', 'vectors']]"
      ]
     },
     "execution_count": 6,
     "metadata": {},
     "output_type": "execute_result"
    }
   ],
   "source": [
    "processed_corpus = [\n",
    "    [word for word in simple_preprocess(doc) if word not in stop_words]\n",
    "    for doc in corpus\n",
    "]\n",
    "processed_corpus"
   ]
  },
  {
   "cell_type": "code",
   "execution_count": 7,
   "id": "2a07015e-3f90-4ddf-8b82-c228337ceb84",
   "metadata": {
    "execution": {
     "iopub.execute_input": "2024-06-24T09:17:56.095495Z",
     "iopub.status.busy": "2024-06-24T09:17:56.094814Z",
     "iopub.status.idle": "2024-06-24T09:17:56.106855Z",
     "shell.execute_reply": "2024-06-24T09:17:56.106253Z",
     "shell.execute_reply.started": "2024-06-24T09:17:56.095468Z"
    }
   },
   "outputs": [
    {
     "data": {
      "text/plain": [
       "<gensim.models.word2vec.Word2Vec at 0x14cd1fdf0>"
      ]
     },
     "execution_count": 7,
     "metadata": {},
     "output_type": "execute_result"
    }
   ],
   "source": [
    "model = Word2Vec(sentences=processed_corpus, vector_size=100, window=5, min_count=1, workers=4)\n",
    "model"
   ]
  },
  {
   "cell_type": "code",
   "execution_count": 8,
   "id": "557e4c28-ab0d-4b3b-932e-09c58ff727f9",
   "metadata": {
    "execution": {
     "iopub.execute_input": "2024-06-24T09:17:56.108205Z",
     "iopub.status.busy": "2024-06-24T09:17:56.107848Z",
     "iopub.status.idle": "2024-06-24T09:17:56.112716Z",
     "shell.execute_reply": "2024-06-24T09:17:56.112146Z",
     "shell.execute_reply.started": "2024-06-24T09:17:56.108171Z"
    }
   },
   "outputs": [
    {
     "data": {
      "text/plain": [
       "<gensim.models.keyedvectors.KeyedVectors at 0x14cd1ee90>"
      ]
     },
     "execution_count": 8,
     "metadata": {},
     "output_type": "execute_result"
    }
   ],
   "source": [
    "word_vectors = model.wv\n",
    "word_vectors"
   ]
  },
  {
   "cell_type": "code",
   "execution_count": 9,
   "id": "79082f6e-d7d2-4c9e-9b46-f889be3b0f82",
   "metadata": {
    "execution": {
     "iopub.execute_input": "2024-06-24T09:17:56.113913Z",
     "iopub.status.busy": "2024-06-24T09:17:56.113621Z",
     "iopub.status.idle": "2024-06-24T09:17:56.119405Z",
     "shell.execute_reply": "2024-06-24T09:17:56.117760Z",
     "shell.execute_reply.started": "2024-06-24T09:17:56.113894Z"
    }
   },
   "outputs": [
    {
     "data": {
      "text/plain": [
       "(100,)"
      ]
     },
     "execution_count": 9,
     "metadata": {},
     "output_type": "execute_result"
    }
   ],
   "source": [
    "vector = word_vectors['word']\n",
    "vector.shape"
   ]
  },
  {
   "cell_type": "code",
   "execution_count": 10,
   "id": "65551557-a3da-4de9-9451-23235c13294b",
   "metadata": {
    "execution": {
     "iopub.execute_input": "2024-06-24T09:17:56.122001Z",
     "iopub.status.busy": "2024-06-24T09:17:56.121244Z",
     "iopub.status.idle": "2024-06-24T09:17:56.128724Z",
     "shell.execute_reply": "2024-06-24T09:17:56.127829Z",
     "shell.execute_reply.started": "2024-06-24T09:17:56.121946Z"
    }
   },
   "outputs": [
    {
     "data": {
      "text/plain": [
       "[('tool', 0.21618761122226715),\n",
       " ('first', 0.09310851246118546),\n",
       " ('meant', 0.0929148867726326),\n",
       " ('another', 0.07966356724500656),\n",
       " ('great', 0.06283358484506607),\n",
       " ('embeddings', 0.027093399316072464),\n",
       " ('show', 0.016160275787115097),\n",
       " ('example', -0.010845640674233437),\n",
       " ('vectors', -0.027724914252758026),\n",
       " ('vec', -0.052069321274757385)]"
      ]
     },
     "execution_count": 10,
     "metadata": {},
     "output_type": "execute_result"
    }
   ],
   "source": [
    "similar_words = word_vectors.most_similar('word')\n",
    "similar_words"
   ]
  },
  {
   "cell_type": "code",
   "execution_count": 11,
   "id": "12aed59a-a0e4-40e0-882a-89fd20a28c66",
   "metadata": {
    "execution": {
     "iopub.execute_input": "2024-06-24T09:17:56.130096Z",
     "iopub.status.busy": "2024-06-24T09:17:56.129732Z",
     "iopub.status.idle": "2024-06-24T09:17:56.135873Z",
     "shell.execute_reply": "2024-06-24T09:17:56.134538Z",
     "shell.execute_reply.started": "2024-06-24T09:17:56.130076Z"
    }
   },
   "outputs": [
    {
     "data": {
      "text/plain": [
       "gensim.models.keyedvectors.KeyedVectors"
      ]
     },
     "execution_count": 11,
     "metadata": {},
     "output_type": "execute_result"
    }
   ],
   "source": [
    "type(word_vectors)"
   ]
  },
  {
   "cell_type": "markdown",
   "id": "b111b3ff-86c3-4e29-98b1-693b31629e78",
   "metadata": {},
   "source": [
    "## 2. 中文词向量"
   ]
  },
  {
   "cell_type": "code",
   "execution_count": 12,
   "id": "b600740f-03f2-43a0-b526-72ae67f0d393",
   "metadata": {
    "execution": {
     "iopub.execute_input": "2024-06-24T09:17:56.144235Z",
     "iopub.status.busy": "2024-06-24T09:17:56.143920Z",
     "iopub.status.idle": "2024-06-24T09:17:56.313853Z",
     "shell.execute_reply": "2024-06-24T09:17:56.313012Z",
     "shell.execute_reply.started": "2024-06-24T09:17:56.144213Z"
    }
   },
   "outputs": [],
   "source": [
    "import re\n",
    "import jieba"
   ]
  },
  {
   "cell_type": "code",
   "execution_count": 13,
   "id": "f90462e3-3286-4745-a4cc-01708c605600",
   "metadata": {
    "execution": {
     "iopub.execute_input": "2024-06-24T09:17:56.315417Z",
     "iopub.status.busy": "2024-06-24T09:17:56.315024Z",
     "iopub.status.idle": "2024-06-24T09:17:56.327058Z",
     "shell.execute_reply": "2024-06-24T09:17:56.326207Z",
     "shell.execute_reply.started": "2024-06-24T09:17:56.315362Z"
    },
    "scrolled": true
   },
   "outputs": [
    {
     "data": {
      "text/plain": [
       "858628"
      ]
     },
     "execution_count": 13,
     "metadata": {},
     "output_type": "execute_result"
    }
   ],
   "source": [
    "with open('./data/红楼梦.txt', 'r') as f:\n",
    "    content = f.read()\n",
    "len(content)"
   ]
  },
  {
   "cell_type": "code",
   "execution_count": 14,
   "id": "e2b77744-9e44-4208-ad89-aeebede1d66e",
   "metadata": {
    "execution": {
     "iopub.execute_input": "2024-06-24T09:17:56.328900Z",
     "iopub.status.busy": "2024-06-24T09:17:56.328574Z",
     "iopub.status.idle": "2024-06-24T09:17:56.335413Z",
     "shell.execute_reply": "2024-06-24T09:17:56.333812Z",
     "shell.execute_reply.started": "2024-06-24T09:17:56.328877Z"
    }
   },
   "outputs": [
    {
     "data": {
      "text/plain": [
       "'第1章 甄士隐梦幻识通灵 贾雨村风尘怀闺秀\\n\\u3000\\u3000此开卷第一回也。\\n\\u3000\\u3000作者自云：因曾历过一番梦幻之后，故将真事隐去，而借通灵说撰此《石头记》一书也，故曰“甄士隐”云云。但书中所记何事何人？自己又云：“今风尘碌碌，一事无成，忽念及当日所有之女子，一一细考较去，觉其行止见识皆出我之上。我堂堂须眉，诚不若彼裙钗，我实愧则有馀，悔又无益，大无可如何之日也。当此日，欲将已往所赖天思祖德，锦衣纨裤之时，饫甘餍肥之日，背父兄教育之恩，负师友规训之德，以致今日一技无成，半生潦倒之罪，编述一集，以告天下。知我之负罪固多，然闺阁中历历有人，万不可因我之不肖，自护己短，一并使其泯灭也。所以蓬牖茅椽，绳床瓦灶，并不足'"
      ]
     },
     "execution_count": 14,
     "metadata": {},
     "output_type": "execute_result"
    }
   ],
   "source": [
    "content[:300]"
   ]
  },
  {
   "cell_type": "code",
   "execution_count": 15,
   "id": "bd16d16b-c8e1-44a5-a3c7-5b7b4c33fd01",
   "metadata": {
    "execution": {
     "iopub.execute_input": "2024-06-24T09:17:56.337397Z",
     "iopub.status.busy": "2024-06-24T09:17:56.337047Z",
     "iopub.status.idle": "2024-06-24T09:17:56.363319Z",
     "shell.execute_reply": "2024-06-24T09:17:56.362658Z",
     "shell.execute_reply.started": "2024-06-24T09:17:56.337369Z"
    }
   },
   "outputs": [
    {
     "data": {
      "text/plain": [
       "(35077,\n",
       " ['第1章 甄士隐梦幻识通灵 贾雨村风尘怀闺秀此开卷第一回也',\n",
       "  '作者自云：因曾历过一番梦幻之后，故将真事隐去，而借通灵说撰此《石头记》一书也，故曰“甄士隐”云云',\n",
       "  '但书中所记何事何人',\n",
       "  '自己又云：“今风尘碌碌，一事无成，忽念及当日所有之女子，一一细考较去，觉其行止见识皆出我之上',\n",
       "  '我堂堂须眉，诚不若彼裙钗，我实愧则有馀，悔又无益，大无可如何之日也'])"
      ]
     },
     "execution_count": 15,
     "metadata": {},
     "output_type": "execute_result"
    }
   ],
   "source": [
    "# 删除 \\n \\u3000 \\u3000\n",
    "pattern = re.compile(r'(\\n|\\u3000|\\u3000)', re.IGNORECASE)\n",
    "content = pattern.sub('', content)\n",
    "\n",
    "# 对句子分段\n",
    "sentences = re.split('。|！|？', content)\n",
    "len(sentences), sentences[:5]"
   ]
  },
  {
   "cell_type": "code",
   "execution_count": 16,
   "id": "e29ba4ca-cefb-45c1-b7d9-57ba848f6df1",
   "metadata": {
    "execution": {
     "iopub.execute_input": "2024-06-24T09:17:56.364707Z",
     "iopub.status.busy": "2024-06-24T09:17:56.364400Z",
     "iopub.status.idle": "2024-06-24T09:17:56.371727Z",
     "shell.execute_reply": "2024-06-24T09:17:56.370766Z",
     "shell.execute_reply.started": "2024-06-24T09:17:56.364686Z"
    }
   },
   "outputs": [
    {
     "data": {
      "text/plain": [
       "749"
      ]
     },
     "execution_count": 16,
     "metadata": {},
     "output_type": "execute_result"
    }
   ],
   "source": [
    "# 加载中文停用词\n",
    "with open('./data/cn_stopwords.txt') as f:\n",
    "    cn_stop_words = f.read()\n",
    "cn_stop_words = cn_stop_words.split('\\n')\n",
    "len(cn_stop_words)"
   ]
  },
  {
   "cell_type": "code",
   "execution_count": 17,
   "id": "3a228cf9-19f0-4225-a85d-227c5d6e5526",
   "metadata": {
    "execution": {
     "iopub.execute_input": "2024-06-24T09:17:56.373553Z",
     "iopub.status.busy": "2024-06-24T09:17:56.372749Z",
     "iopub.status.idle": "2024-06-24T09:18:05.696216Z",
     "shell.execute_reply": "2024-06-24T09:18:05.695355Z",
     "shell.execute_reply.started": "2024-06-24T09:17:56.373517Z"
    }
   },
   "outputs": [
    {
     "name": "stderr",
     "output_type": "stream",
     "text": [
      "Building prefix dict from the default dictionary ...\n",
      "Loading model from cache /var/folders/97/m67m_56s0dq5k20t3vp4_pgh0000gn/T/jieba.cache\n",
      "Loading model cost 0.621 seconds.\n",
      "Prefix dict has been built successfully.\n"
     ]
    },
    {
     "data": {
      "text/plain": [
       "[['章', '甄士隐', '梦幻', '识通灵', '贾雨村', '风尘', '怀', '闺秀', '开卷', '第一回']]"
      ]
     },
     "execution_count": 17,
     "metadata": {},
     "output_type": "execute_result"
    }
   ],
   "source": [
    "cn_processed_corpus = [\n",
    "    [word for word in jieba.lcut(text) if word not in cn_stop_words]\n",
    "    for text in sentences\n",
    "]\n",
    "cn_processed_corpus[:1]"
   ]
  },
  {
   "cell_type": "code",
   "execution_count": 18,
   "id": "bc0b5e0a-ee83-40c6-9ead-e12a9857de6f",
   "metadata": {
    "execution": {
     "iopub.execute_input": "2024-06-24T09:18:05.697724Z",
     "iopub.status.busy": "2024-06-24T09:18:05.697279Z",
     "iopub.status.idle": "2024-06-24T09:18:07.229349Z",
     "shell.execute_reply": "2024-06-24T09:18:07.228154Z",
     "shell.execute_reply.started": "2024-06-24T09:18:05.697703Z"
    }
   },
   "outputs": [
    {
     "data": {
      "text/plain": [
       "<gensim.models.word2vec.Word2Vec at 0x14d5405b0>"
      ]
     },
     "execution_count": 18,
     "metadata": {},
     "output_type": "execute_result"
    }
   ],
   "source": [
    "cn_model = Word2Vec(sentences=cn_processed_corpus, vector_size=100, window=15, min_count=1, workers=4)\n",
    "cn_model"
   ]
  },
  {
   "cell_type": "code",
   "execution_count": 19,
   "id": "83a50557-1952-419c-ab95-25bd63f065d5",
   "metadata": {
    "execution": {
     "iopub.execute_input": "2024-06-24T09:18:07.231111Z",
     "iopub.status.busy": "2024-06-24T09:18:07.230609Z",
     "iopub.status.idle": "2024-06-24T09:18:07.237045Z",
     "shell.execute_reply": "2024-06-24T09:18:07.236048Z",
     "shell.execute_reply.started": "2024-06-24T09:18:07.231090Z"
    }
   },
   "outputs": [
    {
     "data": {
      "text/plain": [
       "(100,)"
      ]
     },
     "execution_count": 19,
     "metadata": {},
     "output_type": "execute_result"
    }
   ],
   "source": [
    "cn_word_vectors = cn_model.wv\n",
    "cn_vector = cn_word_vectors['林黛玉']\n",
    "cn_vector.shape"
   ]
  },
  {
   "cell_type": "code",
   "execution_count": 20,
   "id": "4171646c-b841-406e-83fc-ffa9ecac2681",
   "metadata": {
    "execution": {
     "iopub.execute_input": "2024-06-24T09:18:07.238760Z",
     "iopub.status.busy": "2024-06-24T09:18:07.238247Z",
     "iopub.status.idle": "2024-06-24T09:18:07.257746Z",
     "shell.execute_reply": "2024-06-24T09:18:07.256980Z",
     "shell.execute_reply.started": "2024-06-24T09:18:07.238734Z"
    }
   },
   "outputs": [
    {
     "data": {
      "text/plain": [
       "[('取乐', 0.9973452687263489),\n",
       " ('身', 0.9971345067024231),\n",
       " ('甚', 0.9969601631164551),\n",
       " ('惟有', 0.9969542622566223),\n",
       " ('尤三姐', 0.9969341158866882),\n",
       " ('薛宝钗', 0.9969031810760498),\n",
       " ('封肃', 0.9968977570533752),\n",
       " ('兼', 0.9968968033790588),\n",
       " ('尚未', 0.9968937039375305),\n",
       " ('金桂', 0.996833086013794)]"
      ]
     },
     "execution_count": 20,
     "metadata": {},
     "output_type": "execute_result"
    }
   ],
   "source": [
    "cn_similar_words = cn_word_vectors.most_similar('林黛玉')\n",
    "cn_similar_words"
   ]
  },
  {
   "cell_type": "markdown",
   "id": "29e6df71-2e45-470e-b843-18fdd46b064f",
   "metadata": {},
   "source": [
    "这里有一个小插曲，因为 scipy 更新了 `scipy.linalg.triu` 函数，导致 gensim 在今天这个时点（2024 年 6 月 16日）crash 了。\n",
    "\n",
    "> The scipy.linalg functions tri, triu & tril are deprecated and will be removed in SciPy 1.13. Users are recommended to use the NumPy versions of these functions with identical names.\n",
    ">\n",
    "> Source: [SciPy 1.11.0 Release Notes](https://scipy.github.io/devdocs/release/1.11.0-notes.html#deprecated-features)\n",
    "\n",
    "其实 `gensim` 的代码库针对这个问题已经修改了 [[issues 3525]](https://github.com/piskvorky/gensim/issues/3525)，但是没有发布到 release，所以至今依然存在这个问题。\n",
    "\n",
    "这个问题过段时间肯定就好了。如果你所处的时空跟我一样，依旧没有修复，可以考虑用以下两种解决方法：\n",
    "\n",
    "1. 将 Scipy 回退到 `1.12.0`（推荐，已实践）：\n",
    "\n",
    "```bash\n",
    "   pip uninstall scipy -y\n",
    "   pip install scipy==1.12.0\n",
    "```\n",
    "\n",
    "2. 从 [gensim](https://github.com/piskvorky/gensim) 代码库下载最新代码，然后从源代码构建 Package：\n",
    "\n",
    "```bash\n",
    "   git clone https://github.com/piskvorky/gensim.git\n",
    "   cd gensim\n",
    "   pip uninstall gensim -y\n",
    "   pip install -e .\n",
    "```"
   ]
  }
 ],
 "metadata": {
  "kernelspec": {
   "display_name": "Python 3 (ipykernel)",
   "language": "python",
   "name": "python3"
  },
  "language_info": {
   "codemirror_mode": {
    "name": "ipython",
    "version": 3
   },
   "file_extension": ".py",
   "mimetype": "text/x-python",
   "name": "python",
   "nbconvert_exporter": "python",
   "pygments_lexer": "ipython3",
   "version": "3.10.14"
  }
 },
 "nbformat": 4,
 "nbformat_minor": 5
}
