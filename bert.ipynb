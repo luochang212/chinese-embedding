{
 "cells": [
  {
   "cell_type": "markdown",
   "id": "1dbd18c5-aa04-4139-ac56-0392f9d260bd",
   "metadata": {},
   "source": [
    "# Bert\n",
    "\n",
    "用 Bert 获取句子向量"
   ]
  },
  {
   "cell_type": "code",
   "execution_count": 4,
   "id": "9ea98eb2-d908-462f-84d6-c6d981551c7a",
   "metadata": {
    "execution": {
     "iopub.execute_input": "2024-06-24T13:25:11.915316Z",
     "iopub.status.busy": "2024-06-24T13:25:11.914657Z",
     "iopub.status.idle": "2024-06-24T13:25:11.919210Z",
     "shell.execute_reply": "2024-06-24T13:25:11.918475Z",
     "shell.execute_reply.started": "2024-06-24T13:25:11.915284Z"
    }
   },
   "outputs": [],
   "source": [
    "from transformers import BertModel, BertTokenizer"
   ]
  },
  {
   "cell_type": "code",
   "execution_count": 5,
   "id": "cbcb481c-015e-46f0-b15a-d77bbf67d6d6",
   "metadata": {
    "execution": {
     "iopub.execute_input": "2024-06-24T13:25:12.115882Z",
     "iopub.status.busy": "2024-06-24T13:25:12.115516Z",
     "iopub.status.idle": "2024-06-24T13:25:12.119834Z",
     "shell.execute_reply": "2024-06-24T13:25:12.119005Z",
     "shell.execute_reply.started": "2024-06-24T13:25:12.115856Z"
    }
   },
   "outputs": [],
   "source": [
    "EN_BERT_PATH = './data/bert-base-uncased'\n",
    "CN_BERT_PATH = './data/bert-base-chinese'"
   ]
  },
  {
   "cell_type": "markdown",
   "id": "c259d490-481b-473a-b470-a6372ae4797e",
   "metadata": {},
   "source": [
    "## 1. 英文句子向量\n",
    "\n",
    "下载 [bert-base-uncased](https://huggingface.co/google-bert/bert-base-uncased) 的模型文件：\n",
    "\n",
    "```bash\n",
    "conda install pytorch -y\n",
    "pip install -U huggingface_hub\n",
    "export HF_ENDPOINT=https://hf-mirror.com\n",
    "huggingface-cli download --resume-download bert-base-uncased --local-dir ./data/bert-base-uncased\n",
    "```"
   ]
  },
  {
   "cell_type": "code",
   "execution_count": null,
   "id": "7e1a10ad-8313-44b6-addd-ffd606f09932",
   "metadata": {
    "execution": {
     "execution_failed": "2024-06-24T13:04:41.000Z",
     "iopub.execute_input": "2024-06-24T13:04:38.113615Z",
     "iopub.status.busy": "2024-06-24T13:04:38.113200Z"
    }
   },
   "outputs": [],
   "source": [
    "# 加载模型\n",
    "tokenizer = BertTokenizer.from_pretrained(EN_BERT_PATH)\n",
    "model = BertModel.from_pretrained(EN_BERT_PATH)"
   ]
  },
  {
   "cell_type": "code",
   "execution_count": 4,
   "id": "d99c80d8-e9c2-42e3-a65a-34d9f06c8ffc",
   "metadata": {
    "execution": {
     "iopub.execute_input": "2024-06-24T09:57:27.449785Z",
     "iopub.status.busy": "2024-06-24T09:57:27.449314Z",
     "iopub.status.idle": "2024-06-24T09:57:27.465088Z",
     "shell.execute_reply": "2024-06-24T09:57:27.464418Z",
     "shell.execute_reply.started": "2024-06-24T09:57:27.449752Z"
    }
   },
   "outputs": [
    {
     "data": {
      "text/plain": [
       "{'input_ids': tensor([[ 101, 1855,  100, 1746, 1799,  102]]), 'token_type_ids': tensor([[0, 0, 0, 0, 0, 0]]), 'attention_mask': tensor([[1, 1, 1, 1, 1, 1]])}"
      ]
     },
     "execution_count": 4,
     "metadata": {},
     "output_type": "execute_result"
    }
   ],
   "source": [
    "en_text = \"china\"\n",
    "en_encoded_input = tokenizer(en_text, return_tensors='pt')\n",
    "en_encoded_input"
   ]
  },
  {
   "cell_type": "code",
   "execution_count": null,
   "id": "9d1f3bf7-e463-48c3-a44d-12a6321ee449",
   "metadata": {
    "execution": {
     "execution_failed": "2024-06-24T09:57:28.843Z",
     "iopub.execute_input": "2024-06-24T09:57:27.466597Z",
     "iopub.status.busy": "2024-06-24T09:57:27.466198Z"
    }
   },
   "outputs": [],
   "source": [
    "outputs = model(**en_encoded_input)\n",
    "outputs"
   ]
  },
  {
   "cell_type": "code",
   "execution_count": null,
   "id": "daa3d1ef-917f-4d4f-96da-7ac715ef4136",
   "metadata": {
    "execution": {
     "execution_failed": "2024-06-24T09:57:28.844Z"
    }
   },
   "outputs": [],
   "source": [
    "embeddings = outputs.last_hidden_state.mean(dim=1)\n",
    "embeddings"
   ]
  },
  {
   "cell_type": "markdown",
   "id": "d0b511d9-045c-4cf0-859f-7e2c95fb5acd",
   "metadata": {},
   "source": [
    "## 2. 中文句子向量\n",
    "\n",
    "下载 [bert-base-chinese](https://huggingface.co/google-bert/bert-base-chinese) 的模型文件：\n",
    "\n",
    "```bash\n",
    "conda install pytorch -y\n",
    "pip install -U huggingface_hub\n",
    "export HF_ENDPOINT=https://hf-mirror.com\n",
    "huggingface-cli download --resume-download bert-base-chinese --local-dir ./data/bert-base-chinese\n",
    "```"
   ]
  },
  {
   "cell_type": "code",
   "execution_count": null,
   "id": "31374280-1f88-4a3e-b565-8aefe0cfff46",
   "metadata": {
    "execution": {
     "execution_failed": "2024-06-24T13:25:17.023Z",
     "iopub.execute_input": "2024-06-24T13:25:15.468791Z",
     "iopub.status.busy": "2024-06-24T13:25:15.468357Z"
    }
   },
   "outputs": [],
   "source": [
    "tokenizer = BertTokenizer.from_pretrained(CN_BERT_PATH)\n",
    "model = BertModel.from_pretrained(CN_BERT_PATH)"
   ]
  },
  {
   "cell_type": "code",
   "execution_count": null,
   "id": "9b803a58-b0bb-42b6-8da1-69694f87fc53",
   "metadata": {},
   "outputs": [],
   "source": [
    "cn_text = \"阿美莉卡\"\n",
    "cn_encoded_input = tokenizer(cn_text, return_tensors='pt')\n",
    "cn_encoded_input"
   ]
  },
  {
   "cell_type": "code",
   "execution_count": null,
   "id": "a6fa181a-d4ed-48ea-8b9b-0b6099e8cd03",
   "metadata": {},
   "outputs": [],
   "source": [
    "outputs = model(**cn_encoded_input)\n",
    "outputs"
   ]
  },
  {
   "cell_type": "markdown",
   "id": "aa472f73-3265-403b-b1a9-1d6041f8bf95",
   "metadata": {},
   "source": [
    "https://huggingface.co/sentence-transformers/all-MiniLM-L6-v2\n",
    "\n",
    "https://huggingface.co/hfl/chinese-roberta-wwm-ext\n",
    "\n",
    "https://huggingface.co/uer/sbert-base-chinese-nli"
   ]
  },
  {
   "cell_type": "code",
   "execution_count": null,
   "id": "406096e7-080c-47c3-850d-307f11b7bd55",
   "metadata": {},
   "outputs": [],
   "source": []
  }
 ],
 "metadata": {
  "kernelspec": {
   "display_name": "Python 3 (ipykernel)",
   "language": "python",
   "name": "python3"
  },
  "language_info": {
   "codemirror_mode": {
    "name": "ipython",
    "version": 3
   },
   "file_extension": ".py",
   "mimetype": "text/x-python",
   "name": "python",
   "nbconvert_exporter": "python",
   "pygments_lexer": "ipython3",
   "version": "3.10.14"
  }
 },
 "nbformat": 4,
 "nbformat_minor": 5
}
