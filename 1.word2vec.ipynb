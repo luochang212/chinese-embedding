{
 "cells": [
  {
   "cell_type": "markdown",
   "id": "4671a974-af0c-4f39-9c61-892a7ee2a8c1",
   "metadata": {
    "execution": {
     "iopub.execute_input": "2024-06-16T13:55:17.614164Z",
     "iopub.status.busy": "2024-06-16T13:55:17.613724Z",
     "iopub.status.idle": "2024-06-16T13:55:17.618196Z",
     "shell.execute_reply": "2024-06-16T13:55:17.617235Z",
     "shell.execute_reply.started": "2024-06-16T13:55:17.614134Z"
    }
   },
   "source": [
    "# Word2Vec\n",
    "\n",
    "用 Word2Vec 生成中英文词向量"
   ]
  },
  {
   "cell_type": "code",
   "execution_count": 1,
   "id": "0a84c09d-ed99-4579-b78d-66b0bc778005",
   "metadata": {
    "tags": []
   },
   "outputs": [],
   "source": [
    "# !pip install gensim\n",
    "# !pip install nltk\n",
    "# !pip uninstall scipy -y\n",
    "# !pip install scipy==1.12.0\n",
    "# !pip install jieba"
   ]
  },
  {
   "cell_type": "code",
   "execution_count": 2,
   "id": "44fb66c9-d802-4d31-a815-20d475c5c506",
   "metadata": {
    "tags": []
   },
   "outputs": [
    {
     "name": "stdout",
     "output_type": "stream",
     "text": [
      "gensim                        4.3.0\n",
      "scipy                         1.10.0\n"
     ]
    }
   ],
   "source": [
    "!pip list | grep gensim\n",
    "!pip list | grep scipy"
   ]
  },
  {
   "cell_type": "code",
   "execution_count": 3,
   "id": "af7fb0a0-0b1f-4d3c-bc1f-96b66ea7f2c2",
   "metadata": {
    "tags": []
   },
   "outputs": [
    {
     "name": "stderr",
     "output_type": "stream",
     "text": [
      "[nltk_data] Downloading package stopwords to\n",
      "[nltk_data]     /Users/changluo/nltk_data...\n",
      "[nltk_data]   Package stopwords is already up-to-date!\n"
     ]
    },
    {
     "data": {
      "text/plain": [
       "True"
      ]
     },
     "execution_count": 3,
     "metadata": {},
     "output_type": "execute_result"
    }
   ],
   "source": [
    "from gensim.models import Word2Vec\n",
    "from gensim.utils import simple_preprocess\n",
    "from nltk.corpus import stopwords\n",
    "from nltk import download\n",
    "\n",
    "download('stopwords')"
   ]
  },
  {
   "cell_type": "markdown",
   "id": "09029a5f-1b3f-46a2-a53c-4f67476ec170",
   "metadata": {},
   "source": [
    "## 1. 英文词向量"
   ]
  },
  {
   "cell_type": "code",
   "execution_count": 4,
   "id": "c4726f8d-5bf8-4077-810b-528c2968d563",
   "metadata": {
    "tags": []
   },
   "outputs": [
    {
     "data": {
      "text/plain": [
       "179"
      ]
     },
     "execution_count": 4,
     "metadata": {},
     "output_type": "execute_result"
    }
   ],
   "source": [
    "corpus = [\n",
    "    \"This is the first sentence for our word2vec example.\",\n",
    "    \"Here is another sentence.\",\n",
    "    \"Word2Vec is a great tool for word embeddings.\",\n",
    "    \"This example is meant to show how to generate word vectors.\"\n",
    "]\n",
    "\n",
    "stop_words = set(stopwords.words('english'))\n",
    "len(stop_words)"
   ]
  },
  {
   "cell_type": "code",
   "execution_count": 5,
   "id": "56edebce-cae7-44a7-90d6-31cbeb8d55a1",
   "metadata": {
    "tags": []
   },
   "outputs": [
    {
     "data": {
      "text/plain": [
       "['generate', 'word', 'vectors']"
      ]
     },
     "execution_count": 5,
     "metadata": {},
     "output_type": "execute_result"
    }
   ],
   "source": [
    "simple_preprocess('generate word vectors')"
   ]
  },
  {
   "cell_type": "code",
   "execution_count": 6,
   "id": "a33f99e6-6b21-4976-b568-d49848b6558b",
   "metadata": {
    "tags": []
   },
   "outputs": [
    {
     "data": {
      "text/plain": [
       "[['first', 'sentence', 'word', 'vec', 'example'],\n",
       " ['another', 'sentence'],\n",
       " ['word', 'vec', 'great', 'tool', 'word', 'embeddings'],\n",
       " ['example', 'meant', 'show', 'generate', 'word', 'vectors']]"
      ]
     },
     "execution_count": 6,
     "metadata": {},
     "output_type": "execute_result"
    }
   ],
   "source": [
    "processed_corpus = [\n",
    "    [word for word in simple_preprocess(doc) if word not in stop_words]\n",
    "    for doc in corpus\n",
    "]\n",
    "processed_corpus"
   ]
  },
  {
   "cell_type": "code",
   "execution_count": 7,
   "id": "2a07015e-3f90-4ddf-8b82-c228337ceb84",
   "metadata": {
    "tags": []
   },
   "outputs": [
    {
     "data": {
      "text/plain": [
       "<gensim.models.word2vec.Word2Vec at 0x14b64db10>"
      ]
     },
     "execution_count": 7,
     "metadata": {},
     "output_type": "execute_result"
    }
   ],
   "source": [
    "model = Word2Vec(sentences=processed_corpus, vector_size=100, window=5, min_count=1, workers=4)\n",
    "model"
   ]
  },
  {
   "cell_type": "code",
   "execution_count": 8,
   "id": "557e4c28-ab0d-4b3b-932e-09c58ff727f9",
   "metadata": {
    "tags": []
   },
   "outputs": [
    {
     "data": {
      "text/plain": [
       "<gensim.models.keyedvectors.KeyedVectors at 0x14b64e5f0>"
      ]
     },
     "execution_count": 8,
     "metadata": {},
     "output_type": "execute_result"
    }
   ],
   "source": [
    "word_vectors = model.wv\n",
    "word_vectors"
   ]
  },
  {
   "cell_type": "code",
   "execution_count": 9,
   "id": "79082f6e-d7d2-4c9e-9b46-f889be3b0f82",
   "metadata": {
    "tags": []
   },
   "outputs": [
    {
     "data": {
      "text/plain": [
       "(100,)"
      ]
     },
     "execution_count": 9,
     "metadata": {},
     "output_type": "execute_result"
    }
   ],
   "source": [
    "vector = word_vectors['word']\n",
    "vector.shape"
   ]
  },
  {
   "cell_type": "code",
   "execution_count": 10,
   "id": "20ffc5c1-bccd-49d2-b3c1-f6043f63d0c8",
   "metadata": {},
   "outputs": [
    {
     "data": {
      "text/plain": [
       "array([-5.3634081e-04,  2.3680906e-04,  5.1020449e-03,  9.0093454e-03,\n",
       "       -9.3017817e-03, -7.1157864e-03,  6.4582159e-03,  8.9736823e-03,\n",
       "       -5.0170030e-03, -3.7624310e-03,  7.3798303e-03, -1.5341062e-03,\n",
       "       -4.5350916e-03,  6.5543107e-03, -4.8589921e-03, -1.8168911e-03,\n",
       "        2.8776051e-03,  9.9337066e-04, -8.2866373e-03, -9.4499886e-03,\n",
       "        7.3106494e-03,  5.0695864e-03,  6.7569995e-03,  7.6134264e-04,\n",
       "        6.3525443e-03, -3.4063507e-03, -9.4513345e-04,  5.7697804e-03,\n",
       "       -7.5229201e-03, -3.9355783e-03, -7.5105214e-03, -9.3124068e-04,\n",
       "        9.5370552e-03, -7.3194657e-03, -2.3354974e-03, -1.9379142e-03,\n",
       "        8.0775162e-03, -5.9302971e-03,  4.5453926e-05, -4.7538397e-03,\n",
       "       -9.6045341e-03,  5.0078020e-03, -8.7599270e-03, -4.3908102e-03,\n",
       "       -3.4420791e-05, -2.9533822e-04, -7.6611647e-03,  9.6145393e-03,\n",
       "        4.9814614e-03,  9.2332652e-03, -8.1577078e-03,  4.4955891e-03,\n",
       "       -4.1383887e-03,  8.2338450e-04,  8.4972316e-03, -4.4634552e-03,\n",
       "        4.5171417e-03, -6.7878547e-03, -3.5495376e-03,  9.3979593e-03,\n",
       "       -1.5769954e-03,  3.2091379e-04, -4.1390043e-03, -7.6825563e-03,\n",
       "       -1.5094078e-03,  2.4713511e-03, -8.8682910e-04,  5.5344547e-03,\n",
       "       -2.7441676e-03,  2.2610032e-03,  5.4566190e-03,  8.3470922e-03,\n",
       "       -1.4531172e-03, -9.2081502e-03,  4.3700938e-03,  5.7308213e-04,\n",
       "        7.4437293e-03, -8.1272487e-04, -2.6387700e-03, -8.7531023e-03,\n",
       "       -8.5627084e-04,  2.8250644e-03,  5.4000276e-03,  7.0528872e-03,\n",
       "       -5.7029440e-03,  1.8577060e-03,  6.0879318e-03, -4.7993567e-03,\n",
       "       -3.1056991e-03,  6.7978683e-03,  1.6304984e-03,  1.9111477e-04,\n",
       "        3.4753710e-03,  2.1724708e-04,  9.6205622e-03,  5.0614257e-03,\n",
       "       -8.9166975e-03, -7.0414199e-03,  9.0311753e-04,  6.3914792e-03],\n",
       "      dtype=float32)"
      ]
     },
     "execution_count": 10,
     "metadata": {},
     "output_type": "execute_result"
    }
   ],
   "source": [
    "vector"
   ]
  },
  {
   "cell_type": "code",
   "execution_count": 11,
   "id": "65551557-a3da-4de9-9451-23235c13294b",
   "metadata": {
    "tags": []
   },
   "outputs": [
    {
     "data": {
      "text/plain": [
       "[('tool', 0.21618759632110596),\n",
       " ('first', 0.09310852736234665),\n",
       " ('meant', 0.0929148867726326),\n",
       " ('another', 0.07966356724500656),\n",
       " ('great', 0.06283358484506607),\n",
       " ('embeddings', 0.027093391865491867),\n",
       " ('show', 0.016160279512405396),\n",
       " ('example', -0.010845641605556011),\n",
       " ('vectors', -0.02772490680217743),\n",
       " ('vec', -0.052069298923015594)]"
      ]
     },
     "execution_count": 11,
     "metadata": {},
     "output_type": "execute_result"
    }
   ],
   "source": [
    "similar_words = word_vectors.most_similar('word')\n",
    "similar_words"
   ]
  },
  {
   "cell_type": "code",
   "execution_count": 12,
   "id": "12aed59a-a0e4-40e0-882a-89fd20a28c66",
   "metadata": {
    "tags": []
   },
   "outputs": [
    {
     "data": {
      "text/plain": [
       "gensim.models.keyedvectors.KeyedVectors"
      ]
     },
     "execution_count": 12,
     "metadata": {},
     "output_type": "execute_result"
    }
   ],
   "source": [
    "type(word_vectors)"
   ]
  },
  {
   "cell_type": "markdown",
   "id": "b111b3ff-86c3-4e29-98b1-693b31629e78",
   "metadata": {},
   "source": [
    "## 2. 中文词向量"
   ]
  },
  {
   "cell_type": "code",
   "execution_count": 13,
   "id": "b600740f-03f2-43a0-b526-72ae67f0d393",
   "metadata": {
    "tags": []
   },
   "outputs": [],
   "source": [
    "import re\n",
    "import jieba"
   ]
  },
  {
   "cell_type": "code",
   "execution_count": 14,
   "id": "f90462e3-3286-4745-a4cc-01708c605600",
   "metadata": {
    "scrolled": true,
    "tags": []
   },
   "outputs": [
    {
     "data": {
      "text/plain": [
       "858628"
      ]
     },
     "execution_count": 14,
     "metadata": {},
     "output_type": "execute_result"
    }
   ],
   "source": [
    "with open('./data/红楼梦.txt', 'r') as f:\n",
    "    content = f.read()\n",
    "len(content)"
   ]
  },
  {
   "cell_type": "code",
   "execution_count": 15,
   "id": "e2b77744-9e44-4208-ad89-aeebede1d66e",
   "metadata": {
    "tags": []
   },
   "outputs": [
    {
     "data": {
      "text/plain": [
       "'第1章 甄士隐梦幻识通灵 贾雨村风尘怀闺秀\\n\\u3000\\u3000此开卷第一回也。\\n\\u3000\\u3000作者自云：因曾历过一番梦幻之后，故将真事隐去，而借通灵说撰此《石头记》一书也，故曰“甄士隐”云云。但书中所记何事何人？自己又云：“今风尘碌碌，一事无成，忽念及当日所有之女子，一一细考较去，觉其行止见识皆出我之上。我堂堂须眉，诚不若彼裙钗，我实愧则有馀，悔又无益，大无可如何之日也。当此日，欲将已往所赖天思祖德，锦衣纨裤之时，饫甘餍肥之日，背父兄教育之恩，负师友规训之德，以致今日一技无成，半生潦倒之罪，编述一集，以告天下。知我之负罪固多，然闺阁中历历有人，万不可因我之不肖，自护己短，一并使其泯灭也。所以蓬牖茅椽，绳床瓦灶，并不足'"
      ]
     },
     "execution_count": 15,
     "metadata": {},
     "output_type": "execute_result"
    }
   ],
   "source": [
    "content[:300]"
   ]
  },
  {
   "cell_type": "code",
   "execution_count": 16,
   "id": "bd16d16b-c8e1-44a5-a3c7-5b7b4c33fd01",
   "metadata": {
    "tags": []
   },
   "outputs": [
    {
     "data": {
      "text/plain": [
       "(35077,\n",
       " ['第1章 甄士隐梦幻识通灵 贾雨村风尘怀闺秀此开卷第一回也',\n",
       "  '作者自云：因曾历过一番梦幻之后，故将真事隐去，而借通灵说撰此《石头记》一书也，故曰“甄士隐”云云',\n",
       "  '但书中所记何事何人',\n",
       "  '自己又云：“今风尘碌碌，一事无成，忽念及当日所有之女子，一一细考较去，觉其行止见识皆出我之上',\n",
       "  '我堂堂须眉，诚不若彼裙钗，我实愧则有馀，悔又无益，大无可如何之日也'])"
      ]
     },
     "execution_count": 16,
     "metadata": {},
     "output_type": "execute_result"
    }
   ],
   "source": [
    "# 删除 \\n \\u3000 \\u3000\n",
    "pattern = re.compile(r'(\\n|\\u3000|\\u3000)', re.IGNORECASE)\n",
    "content = pattern.sub('', content)\n",
    "\n",
    "# 对句子分段\n",
    "sentences = re.split('。|！|？', content)\n",
    "len(sentences), sentences[:5]"
   ]
  },
  {
   "cell_type": "code",
   "execution_count": 17,
   "id": "e29ba4ca-cefb-45c1-b7d9-57ba848f6df1",
   "metadata": {
    "tags": []
   },
   "outputs": [
    {
     "data": {
      "text/plain": [
       "749"
      ]
     },
     "execution_count": 17,
     "metadata": {},
     "output_type": "execute_result"
    }
   ],
   "source": [
    "# 加载中文停用词\n",
    "with open('./data/cn_stopwords.txt') as f:\n",
    "    cn_stop_words = f.read()\n",
    "cn_stop_words = cn_stop_words.split('\\n')\n",
    "len(cn_stop_words)"
   ]
  },
  {
   "cell_type": "code",
   "execution_count": 18,
   "id": "3a228cf9-19f0-4225-a85d-227c5d6e5526",
   "metadata": {
    "tags": []
   },
   "outputs": [
    {
     "name": "stderr",
     "output_type": "stream",
     "text": [
      "Building prefix dict from the default dictionary ...\n",
      "Loading model from cache /var/folders/0v/110wmd1964s9xk3hg_ty7hnh0000gn/T/jieba.cache\n",
      "Loading model cost 0.253 seconds.\n",
      "Prefix dict has been built successfully.\n"
     ]
    },
    {
     "data": {
      "text/plain": [
       "[['章', '甄士隐', '梦幻', '识通灵', '贾雨村', '风尘', '怀', '闺秀', '开卷', '第一回']]"
      ]
     },
     "execution_count": 18,
     "metadata": {},
     "output_type": "execute_result"
    }
   ],
   "source": [
    "cn_processed_corpus = [\n",
    "    [word for word in jieba.lcut(text) if word not in cn_stop_words]\n",
    "    for text in sentences\n",
    "]\n",
    "cn_processed_corpus[:1]"
   ]
  },
  {
   "cell_type": "code",
   "execution_count": 19,
   "id": "bc0b5e0a-ee83-40c6-9ead-e12a9857de6f",
   "metadata": {
    "tags": []
   },
   "outputs": [
    {
     "data": {
      "text/plain": [
       "<gensim.models.word2vec.Word2Vec at 0x14b6c5690>"
      ]
     },
     "execution_count": 19,
     "metadata": {},
     "output_type": "execute_result"
    }
   ],
   "source": [
    "cn_model = Word2Vec(sentences=cn_processed_corpus, vector_size=100, window=15, min_count=1, workers=4)\n",
    "cn_model"
   ]
  },
  {
   "cell_type": "code",
   "execution_count": 20,
   "id": "83a50557-1952-419c-ab95-25bd63f065d5",
   "metadata": {
    "tags": []
   },
   "outputs": [
    {
     "data": {
      "text/plain": [
       "(100,)"
      ]
     },
     "execution_count": 20,
     "metadata": {},
     "output_type": "execute_result"
    }
   ],
   "source": [
    "cn_word_vectors = cn_model.wv\n",
    "cn_vector = cn_word_vectors['林黛玉']\n",
    "cn_vector.shape"
   ]
  },
  {
   "cell_type": "code",
   "execution_count": 21,
   "id": "aaa0e965-8ecf-47ba-aab2-84ff46a59ab1",
   "metadata": {},
   "outputs": [
    {
     "data": {
      "text/plain": [
       "array([ 0.03187357,  0.08712577,  0.06776608,  0.06925862, -0.16397369,\n",
       "       -0.3272053 ,  0.09465191,  0.45383644,  0.00816236, -0.10721069,\n",
       "        0.00467131, -0.20834783, -0.0743042 ,  0.11238264,  0.13771193,\n",
       "       -0.11834833,  0.05911426, -0.129058  , -0.17230403, -0.43833685,\n",
       "        0.10324208,  0.10583433,  0.12489247, -0.01912691,  0.11316622,\n",
       "       -0.03308889, -0.15794286, -0.01048738, -0.21774493,  0.03137633,\n",
       "        0.04212022,  0.05329863,  0.01756241, -0.14765704, -0.14253245,\n",
       "        0.2794736 ,  0.01149549, -0.14126092, -0.07886385, -0.3664317 ,\n",
       "        0.05706621, -0.23403077, -0.15466402, -0.05464713,  0.06577917,\n",
       "       -0.00273063, -0.23880409, -0.00428622,  0.0086732 ,  0.2836198 ,\n",
       "        0.03997937, -0.23093075, -0.19872925, -0.07947168, -0.23022132,\n",
       "        0.1292211 ,  0.07332551,  0.11955866, -0.12997931,  0.14047755,\n",
       "       -0.03745651,  0.15746516, -0.13795659,  0.0033019 , -0.14843433,\n",
       "        0.31583366,  0.09175596,  0.11569478, -0.26650828,  0.3680091 ,\n",
       "       -0.17147234,  0.02533338,  0.2163521 , -0.10083119,  0.2903606 ,\n",
       "        0.07428099,  0.2090886 , -0.0241434 , -0.30463123,  0.22850978,\n",
       "        0.03862601, -0.05828178, -0.15852763,  0.31930307,  0.02087125,\n",
       "       -0.03021056, -0.07911704,  0.17647602,  0.27134693,  0.15887704,\n",
       "        0.21558145,  0.14848433, -0.04245363,  0.05121151,  0.26015615,\n",
       "        0.22923517,  0.18115377, -0.19166447,  0.00818315,  0.10513782],\n",
       "      dtype=float32)"
      ]
     },
     "execution_count": 21,
     "metadata": {},
     "output_type": "execute_result"
    }
   ],
   "source": [
    "cn_vector"
   ]
  },
  {
   "cell_type": "code",
   "execution_count": 22,
   "id": "4171646c-b841-406e-83fc-ffa9ecac2681",
   "metadata": {
    "tags": []
   },
   "outputs": [
    {
     "data": {
      "text/plain": [
       "[('大观园', 0.998341977596283),\n",
       " ('寺', 0.9974862337112427),\n",
       " ('三间', 0.9965772032737732),\n",
       " ('围着', 0.9965060353279114),\n",
       " ('亭', 0.9964518547058105),\n",
       " ('箸', 0.9964424967765808),\n",
       " ('悲', 0.9963930249214172),\n",
       " ('园中', 0.9962874054908752),\n",
       " ('未', 0.9962827563285828),\n",
       " ('铁槛', 0.9962796568870544)]"
      ]
     },
     "execution_count": 22,
     "metadata": {},
     "output_type": "execute_result"
    }
   ],
   "source": [
    "cn_similar_words = cn_word_vectors.most_similar('林黛玉')\n",
    "cn_similar_words"
   ]
  },
  {
   "cell_type": "markdown",
   "id": "29e6df71-2e45-470e-b843-18fdd46b064f",
   "metadata": {},
   "source": [
    "这里有一个小插曲，因为 scipy 更新了 `scipy.linalg.triu` 函数，导致 gensim 在今天这个时点（2024 年 6 月 16日）crash 了。\n",
    "\n",
    "> The scipy.linalg functions tri, triu & tril are deprecated and will be removed in SciPy 1.13. Users are recommended to use the NumPy versions of these functions with identical names.\n",
    ">\n",
    "> Source: [SciPy 1.11.0 Release Notes](https://scipy.github.io/devdocs/release/1.11.0-notes.html#deprecated-features)\n",
    "\n",
    "其实 `gensim` 的代码库针对这个问题已经修改了 [[issues 3525]](https://github.com/piskvorky/gensim/issues/3525)，但是没有发布到 release，所以至今依然存在这个问题。\n",
    "\n",
    "这个问题过段时间肯定就好了。如果你所处的时空跟我一样，依旧没有修复，可以考虑用以下两种解决方法：\n",
    "\n",
    "1. 将 Scipy 回退到 `1.12.0`（推荐，已实践）：\n",
    "\n",
    "```bash\n",
    "   pip uninstall scipy -y\n",
    "   pip install scipy==1.12.0\n",
    "```\n",
    "\n",
    "2. 从 [gensim](https://github.com/piskvorky/gensim) 代码库下载最新代码，然后从源代码构建 Package：\n",
    "\n",
    "```bash\n",
    "   git clone https://github.com/piskvorky/gensim.git\n",
    "   cd gensim\n",
    "   pip uninstall gensim -y\n",
    "   pip install -e .\n",
    "```"
   ]
  },
  {
   "cell_type": "code",
   "execution_count": null,
   "id": "d3a551e0-bfbb-4966-93f0-a5c36cce7bb8",
   "metadata": {},
   "outputs": [],
   "source": []
  }
 ],
 "metadata": {
  "kernelspec": {
   "display_name": "Python 3 (ipykernel)",
   "language": "python",
   "name": "python3"
  },
  "language_info": {
   "codemirror_mode": {
    "name": "ipython",
    "version": 3
   },
   "file_extension": ".py",
   "mimetype": "text/x-python",
   "name": "python",
   "nbconvert_exporter": "python",
   "pygments_lexer": "ipython3",
   "version": "3.10.9"
  }
 },
 "nbformat": 4,
 "nbformat_minor": 5
}
